{
 "cells": [
  {
   "cell_type": "markdown",
   "metadata": {},
   "source": [
    "# MLE in python\n",
    "\n",
    "Based on code from: https://medium.com/@rrfd/what-is-maximum-likelihood-estimation-examples-in-python-791153818030"
   ]
  },
  {
   "cell_type": "code",
   "execution_count": 67,
   "metadata": {
    "collapsed": false,
    "deletable": true,
    "editable": true
   },
   "outputs": [],
   "source": [
    "from scipy.stats import norm\n",
    "import numpy as np"
   ]
  },
  {
   "cell_type": "markdown",
   "metadata": {},
   "source": [
    "Let's assume we have a linear regression model. We need to estimate a parameter from a model. We want to use observed data x to create the model's parameters θ. \n",
    "\n",
    "But how do we actually estimate the paramters θ?\n",
    "\n",
    "For example, say we are sampling a random variable X (normally distributed with mean mu and sd). Our goal is to find estimates of mu and sd from our smaple which represents the true X, not just our samples. \n",
    "\n",
    "Consider when you’re doing a linear regression, and your model estimates the coefficients for X on the dependent variable y. How do we maximize the likelihood (probability) our estimator θ is from the true X? And, once you have the sample value how do you know it is correct?\n",
    "\n",
    "\n",
    "## Estimating Our Parameters\n",
    "\n",
    "Assuming we are using a Normal Distribution, we can use the PDF to get the probability that a given sample x is from our random variable X, when the true parameters of the distribution are mu and sd. (Here mu is the mean and sd is the standard deviation).\n",
    "\n",
    "Let's look at a few examples. \n",
    "\n",
    "Let's say our sample is 3. What is the probability it comes from a distribution of mu = 3 and sd = 1?\n",
    "\n",
    "We can use the norm.pdf function that we saw last time in class."
   ]
  },
  {
   "cell_type": "code",
   "execution_count": 68,
   "metadata": {
    "collapsed": false
   },
   "outputs": [
    {
     "data": {
      "text/plain": [
       "0.3989422804014327"
      ]
     },
     "execution_count": 68,
     "metadata": {},
     "output_type": "execute_result"
    }
   ],
   "source": [
    "norm.pdf(3, 3, 1)"
   ]
  },
  {
   "cell_type": "markdown",
   "metadata": {},
   "source": [
    "What is the probability that the sample came from a distribution with mu = 7 and sd = 2?"
   ]
  },
  {
   "cell_type": "code",
   "execution_count": 69,
   "metadata": {
    "collapsed": false,
    "deletable": true,
    "editable": true
   },
   "outputs": [
    {
     "data": {
      "text/plain": [
       "0.02699548325659403"
      ]
     },
     "execution_count": 69,
     "metadata": {},
     "output_type": "execute_result"
    }
   ],
   "source": [
    "norm.pdf(3, 7, 2)"
   ]
  },
  {
   "cell_type": "markdown",
   "metadata": {},
   "source": [
    "**Question:** So we see that it is much more likely that of our sample 3 came from the first distribution than the second distribution. How can we tell this is the case based on the probabiliites generated above?"
   ]
  },
  {
   "cell_type": "markdown",
   "metadata": {},
   "source": [
    "**ANSWER:** {Input your answer here!!! In plain text}"
   ]
  },
  {
   "cell_type": "markdown",
   "metadata": {},
   "source": [
    "**Question:** Assuming we still have a sample of 3, how can we modify the mu and sd in order to generate a distribution X with the probability that our sample came from X is greater than 0.5? (i.e. p(3,mu,sigma) > 0.5)? "
   ]
  },
  {
   "cell_type": "code",
   "execution_count": 70,
   "metadata": {
    "collapsed": true
   },
   "outputs": [],
   "source": [
    "# ANSWER: {Input your answer here!!! \n",
    "#         Use the norm.pdf function to show your mu and sd \n",
    "#         produce a probablity > 0.5}\n"
   ]
  },
  {
   "cell_type": "markdown",
   "metadata": {},
   "source": [
    "**Question:** What mu and sd will produce a probability > 0.75?"
   ]
  },
  {
   "cell_type": "code",
   "execution_count": 71,
   "metadata": {
    "collapsed": true
   },
   "outputs": [],
   "source": [
    "# ANSWER: {Input your answer here!!! \n",
    "#         Use the norm.pdf function to show your mu and sd \n",
    "#         produce a probablity > 0.75}\n"
   ]
  },
  {
   "cell_type": "markdown",
   "metadata": {},
   "source": [
    "**Question:** What mu and sd will produce a probability < 0.01?"
   ]
  },
  {
   "cell_type": "code",
   "execution_count": 72,
   "metadata": {
    "collapsed": false
   },
   "outputs": [],
   "source": [
    "# ANSWER: {Input your answer here!!! \n",
    "#         Use the norm.pdf function to show your mu and sd \n",
    "#         produce a probablity < 0.01}\n"
   ]
  },
  {
   "cell_type": "markdown",
   "metadata": {},
   "source": [
    "## Likelihood of Many Samples\n",
    "\n",
    "What happens if we have a bunch of points we want to estimate?\n",
    "\n",
    "Let's assume we get a bunch of samples from X which we know to come from some normal distribution, and all are mutually independent from each other. If this is the case, the total probability of observing all of the data is the product of obtaining each data point individually. This just makes the maths easier.\n",
    "\n",
    "So if we want to see the probability of 2 and 6 are drawn from a distribution with mu = 4and sigma = 1 we get:"
   ]
  },
  {
   "cell_type": "code",
   "execution_count": 73,
   "metadata": {
    "collapsed": false,
    "deletable": true,
    "editable": true
   },
   "outputs": [
    {
     "data": {
      "text/plain": [
       "0.0029150244650281948"
      ]
     },
     "execution_count": 73,
     "metadata": {},
     "output_type": "execute_result"
    }
   ],
   "source": [
    "norm.pdf(2, 4, 1)*norm.pdf(6, 4, 1)"
   ]
  },
  {
   "cell_type": "markdown",
   "metadata": {},
   "source": [
    "What if we have even more than two samples?\n",
    "\n",
    "Consider this sample: x = [4, 5, 7, 8, 8, 9, 10, 5, 2, 3, 5, 4, 8, 9] and let’s compare these values to both PDF ~ N(5, 3) and PDF ~ N(7, 4). Our sample could be drawn from a variable that comes from these distributions, so let’s take a look."
   ]
  },
  {
   "cell_type": "code",
   "execution_count": 74,
   "metadata": {
    "collapsed": false,
    "deletable": true,
    "editable": true
   },
   "outputs": [
    {
     "data": {
      "image/png": "[encoded data removed]",
      "text/plain": [
       "<matplotlib.figure.Figure at 0x7ff9d8a8b210>"
      ]
     },
     "metadata": {},
     "output_type": "display_data"
    }
   ],
   "source": [
    "from scipy.stats import uniform\n",
    "import matplotlib.pyplot as plt\n",
    "import matplotlib.mlab as mlab\n",
    "\n",
    "import math\n",
    "\n",
    "x = np.array([4, 5, 7, 8, 8, 9, 10, 5, 2, 3, 5, 4, 8, 9])\n",
    "a = np.histogram(x)\n",
    "\n",
    "# plot the data themselves\n",
    "plt.hist(x, density=True, histtype='stepfilled', alpha=0.2)\n",
    "\n",
    "# plot the first candidate distribution\n",
    "mu = 5\n",
    "variance = 9\n",
    "sd = math.sqrt(variance)\n",
    "d1 = np.linspace(mu - 3*sd, mu + 3*sd, 100)\n",
    "plt.plot(d1,mlab.normpdf(d1, mu, sd))\n",
    "\n",
    "# plot the second candidate distribution\n",
    "mu = 7\n",
    "variance = 16\n",
    "sd = math.sqrt(variance)\n",
    "d2 = np.linspace(mu - 3*sd, mu + 3*sd, 100)\n",
    "plt.plot(d2,mlab.normpdf(d2, mu, sd))\n",
    "\n",
    "\n",
    "plt.show()\n"
   ]
  },
  {
   "cell_type": "markdown",
   "metadata": {},
   "source": [
    "It seems quite likely our samples come from either of these distributions. But what is actually correct?\n",
    "\n",
    "So we want to find p(2, 3, 4, 5, 7, 8, 9, 10; mu, sd). The probability these samples come from a normal distribution with mu and sd. But we don’t know mu and sd, so we need to estimate them.\n",
    "\n",
    "We do this through maximum likelihood estimation (MLE), to specify a distributions of unknown parameters, then using your data to pull out the actual parameter values.\n",
    "\n",
    "Our θ is a parameter which estimates x = [2, 3, 4, 5, 7, 8, 9, 10] which we are assuming comes from a normal distribution PDF shown below.\n",
    "\n",
    "We want to maximize the likelihood our parameter θ comes from this distribution. To make things simpler we’re going to take the log of the equation. Remember how I said above our parameter x was likely to appear in a distribution with certain parameters? Now we can call this our likelihood equation, and when we take the log of the equation PDF equation, we get the log likelihood as we saw in the MLE criterion from today's lecture. For our example here, our likelihood is:\n",
    "\n",
    "log(f(xi;mu,sd^2) = -(n/2)log(2π) - (n/2)log(sd^2) - (1/(2sd^2))(sum(xi-mu)^2)\n",
    "\n",
    "\n",
    "\n",
    "Let's compare our x values to the previous two distributions we think it might be drawn from."
   ]
  },
  {
   "cell_type": "code",
   "execution_count": 75,
   "metadata": {
    "collapsed": false,
    "deletable": true,
    "editable": true
   },
   "outputs": [
    {
     "name": "stdout",
     "output_type": "stream",
     "text": [
      "The LL of of x for mu = 5 and sd = 3 is: -33.9679\n",
      "The LL of of x for mu = 7 and sd = 4 is: -35.1170\n"
     ]
    }
   ],
   "source": [
    "# Compare the likelihood of the random samples to the two \n",
    "# distributions\n",
    "def compare_data_to_dist(x, mu_1=5, mu_2=7, sd_1=3, sd_2=4):\n",
    "    ll_1 = 0\n",
    "    ll_2 = 0\n",
    "    for i in x:\n",
    "        ll_1 += np.log(norm.pdf(i, mu_1, sd_1))\n",
    "        ll_2 += np.log(norm.pdf(i, mu_2, sd_2))\n",
    "    \n",
    "    print( \"The LL of of x for mu = %d and sd = %d is: %.4f\" % (mu_1, sd_1, ll_1))\n",
    "    print( \"The LL of of x for mu = %d and sd = %d is: %.4f\" % (mu_2, sd_2, ll_2))\n",
    "compare_data_to_dist(x)\n"
   ]
  },
  {
   "cell_type": "markdown",
   "metadata": {},
   "source": [
    "**Question:** Based on the log likelihoods above, which distribution do we believe our sample came from?"
   ]
  },
  {
   "cell_type": "markdown",
   "metadata": {},
   "source": [
    "**ANSWER:** {Input your answer here!!! In plain text}"
   ]
  },
  {
   "cell_type": "markdown",
   "metadata": {},
   "source": [
    "Let's take a look at how we can view this graphically.\n",
    "\n",
    "We want to plot a log likelihood for possible values of mu and sd. Below we have fixed sd at 3.0 while our guess for mu are { mu ∈ R| x ≥ 2 and x ≤ 10}, and will be plotted on the x axis.\n",
    "\n",
    "We can see the max of our likelihood function occurs around 6.2. However, as we change the estimate for sd — as you will do below — the max of our function will fluctuate. Our goal will be the find the values of mu and sd, that maximize our likelihood function."
   ]
  },
  {
   "cell_type": "code",
   "execution_count": 76,
   "metadata": {
    "collapsed": false
   },
   "outputs": [
    {
     "name": "stdout",
     "output_type": "stream",
     "text": [
      "The max LL for sd 3.0 is -32.82\n"
     ]
    },
    {
     "data": {
      "image/png": "[encoded data removed]",
      "text/plain": [
       "<matplotlib.figure.Figure at 0x7ff9d88d9f50>"
      ]
     },
     "metadata": {},
     "output_type": "display_data"
    }
   ],
   "source": [
    "def plot_ll(x):\n",
    "    plt.figure(figsize=(5,8))\n",
    "    plt.title(\"Maximim Likelihood Functions\")\n",
    "    plt.xlabel(\"Mean Estimate\")\n",
    "    plt.ylabel(\"Log Likelihood\")\n",
    "    plt.ylim(-40, -30)\n",
    "    plt.xlim(0, 12)\n",
    "    mu_set = np.linspace(0, 16, 1000)\n",
    "    sd = 3.0\n",
    "    max_val = max_val_location = None\n",
    "\n",
    "    ll_array = []       \n",
    "    for j in mu_set:\n",
    "        temp_mm = 0\n",
    "\n",
    "        for k in x:\n",
    "            temp_mm += np.log(norm.pdf(k, j, sd)) # The LL function\n",
    "        ll_array.append(temp_mm)\n",
    "\n",
    "        if (max_val is None):\n",
    "            max_val = max(ll_array)\n",
    "        elif max(ll_array) > max_val:\n",
    "            max_val = max(ll_array)\n",
    "            max_val_location = j\n",
    "\n",
    "    # Plot the results\n",
    "    plt.plot(mu_set, ll_array, label=\"sd: 3.0\")\n",
    "\n",
    "    print( \"The max LL for sd 3.0 is %.2f\" % (max(ll_array))   )\n",
    "    plt.axvline(x=max_val_location, color='black', ls='-.')\n",
    "    plt.legend(loc='lower left')\n",
    "\n",
    "    plt.show()\n",
    "        \n",
    "plot_ll(x);\n",
    "\n"
   ]
  },
  {
   "cell_type": "markdown",
   "metadata": {},
   "source": [
    "Now we want to substitute θ in for mu and sd in our likelihood function. Let’s call them θ_mu and θ_sd.\n",
    "\n",
    "To maximize our equation with respect to each of our parameters, we need to take the derivative and set the equation to zero.\n",
    "\n",
    "First, let’s estimate θ_mu from our Log Likelihood Equation above:\n",
    "\n",
    "dx/dθ_mu = 0 => θ_mu = mu = (sum of xi for i = 1...n ) / n\n",
    "\n",
    "Now we can be certain the maximum likelihood estimate for θ_mu is the sum of our observations, divided by the number of observations. And let’s do the same for θ_sd.\n",
    "\n",
    "dx/dθ_sd = 0 => θ_sd = sd^2 = [sum of (xi - mu)^2 for i = 1...n] / n\n",
    "\n",
    "And, now we have our maximum likelihood estimate for θ_sd. Great! Now we know how to estimate both these parameters from the observations we have.\n",
    "\n",
    "Let’s look at the visualization of how the MLE for θ_mu and θ_sd is determined."
   ]
  },
  {
   "cell_type": "markdown",
   "metadata": {},
   "source": [
    "**Question:** Extend the above plotting function to plot lines representing the likelihood function for a set of sd's in a single figure (instead of just a single sd). To illustrate your plot words, generate a plot showing the MLE using the following set of sd's: .5, 1, 1.5, 2.5, 3, 3.5"
   ]
  },
  {
   "cell_type": "code",
   "execution_count": 77,
   "metadata": {
    "collapsed": false,
    "deletable": true,
    "editable": true
   },
   "outputs": [],
   "source": [
    "# ANSWER: {Input your answer here!!! \n",
    "#          Extend the plotting code and then generate the required plot}\n"
   ]
  },
  {
   "cell_type": "markdown",
   "metadata": {
    "deletable": true,
    "editable": true
   },
   "source": [
    "In your answer above, each line plots a different likelihood function for a different value of sd. Each maximum is clustered around the same single point 6.2 as it was in our sd = 3.0 example above. From this new plot, we can see how changing our estimate for θ_sd changes which likelihood function provides our maximum value. "
   ]
  },
  {
   "cell_type": "markdown",
   "metadata": {},
   "source": [
    "**Question:** From your plot above, which likelihood function provied our maximum value? (i.e. assuming our θ_mu = 6.2, which θ_sd provided the max log likelihood?) \n"
   ]
  },
  {
   "cell_type": "markdown",
   "metadata": {},
   "source": [
    "**ANSWER:** {Input your answer here!!! In plain text}"
   ]
  },
  {
   "cell_type": "markdown",
   "metadata": {},
   "source": [
    "Now we understand what is meant by maximizing the likelihood function. But let’s confirm the exact values, rather than rough estimates. If you want a more detailed understanding of why the likelihood functions are convex, here is a good Cross Validated post: https://stats.stackexchange.com/questions/260719/convexity-linearity-and-their-combination-for-mle.\n",
    "\n",
    "We can use the equations we derived from the first order derivatives above to get those estimates as well:"
   ]
  },
  {
   "cell_type": "markdown",
   "metadata": {},
   "source": [
    "**Question:** Using the equations for θ_mu and θ_sd above, calculate the θ_mu and θ_sd that maximize our likelihood function. How do these values compare to your estimates from the previous question?  Finally, use np.mean(x) and np.std(x) to verify that your values are correct."
   ]
  },
  {
   "cell_type": "code",
   "execution_count": 78,
   "metadata": {
    "collapsed": true
   },
   "outputs": [],
   "source": [
    "# ANSWER: {Input your answer here!!! \n",
    "#         For the comparision part, put your answer as a comment\n",
    "#         below the math used to calcaulate your answer.}"
   ]
  },
  {
   "cell_type": "markdown",
   "metadata": {},
   "source": [
    "**Question:** Now that we have estimates for mu and sd of our distribution, modify the plotting code below to plot this distribution alongside the potenial distributions we looked at before. "
   ]
  },
  {
   "cell_type": "code",
   "execution_count": 79,
   "metadata": {
    "collapsed": false
   },
   "outputs": [
    {
     "data": {
      "image/png": "[encoded data removed]",
      "text/plain": [
       "<matplotlib.figure.Figure at 0x7ff9d87df150>"
      ]
     },
     "metadata": {},
     "output_type": "display_data"
    }
   ],
   "source": [
    "# ANSWER: {Input your answer here!!! \n",
    "#         MODFIY the code below to plot the new distribution as well}\n",
    "\n",
    "from scipy.stats import uniform\n",
    "import matplotlib.pyplot as plt\n",
    "import matplotlib.mlab as mlab\n",
    "\n",
    "import math\n",
    "\n",
    "x = np.array([4, 5, 7, 8, 8, 9, 10, 5, 2, 3, 5, 4, 8, 9])\n",
    "a = np.histogram(x)\n",
    "\n",
    "# plot the data themselves\n",
    "plt.hist(x, density=True, histtype='stepfilled', alpha=0.2)\n",
    "\n",
    "# plot the first candidate distribution\n",
    "mu = 5\n",
    "variance = 9\n",
    "sd = math.sqrt(variance)\n",
    "d1 = np.linspace(mu - 3*sd, mu + 3*sd, 100)\n",
    "plt.plot(d1,mlab.normpdf(d1, mu, sd))\n",
    "\n",
    "# plot the second candidate distribution\n",
    "mu = 7\n",
    "variance = 16\n",
    "sd = math.sqrt(variance)\n",
    "d2 = np.linspace(mu - 3*sd, mu + 3*sd, 100)\n",
    "plt.plot(d2,mlab.normpdf(d2, mu, sd))\n",
    "\n",
    "\n",
    "plt.show()"
   ]
  },
  {
   "cell_type": "markdown",
   "metadata": {},
   "source": [
    "**Question:** What can you conclude about how well our points fit the potenial distributions?"
   ]
  },
  {
   "cell_type": "markdown",
   "metadata": {},
   "source": [
    "**ANSWER:** {Input your answer here!!! In plain text}"
   ]
  },
  {
   "cell_type": "markdown",
   "metadata": {},
   "source": [
    "## THE END!"
   ]
  },
  {
   "cell_type": "code",
   "execution_count": null,
   "metadata": {
    "collapsed": true
   },
   "outputs": [],
   "source": []
  }
 ],
 "metadata": {
  "kernelspec": {
   "display_name": "Python 2",
   "language": "python",
   "name": "python2"
  },
  "language_info": {
   "codemirror_mode": {
    "name": "ipython",
    "version": 2
   },
   "file_extension": ".py",
   "mimetype": "text/x-python",
   "name": "python",
   "nbconvert_exporter": "python",
   "pygments_lexer": "ipython2",
   "version": "2.7.6"
  }
 },
 "nbformat": 4,
 "nbformat_minor": 2
}
